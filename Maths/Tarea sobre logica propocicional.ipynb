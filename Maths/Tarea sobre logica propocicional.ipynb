{
 "cells": [
  {
   "cell_type": "markdown",
   "id": "65424b05",
   "metadata": {},
   "source": [
    "<center> <h1> 📝Tarea sobre Lógica proposicional📝 </h1></center>\n",
    "\n",
    "🏆 El objetivo de este trabajo es repasar tablas de verdad y algunas equivalencias lógicas que permitiran entender algunas demostraciones matemáticas. Además de integrar un poco el texto en Markdown y LaTeX como un primer acercamiento a ambos."
   ]
  },
  {
   "cell_type": "markdown",
   "id": "3783c612",
   "metadata": {},
   "source": [
    "**1.** Desaroyar un código que imprima los valores de verdas para cada  *variable proposicional* y el resultado de cada proposición. Es decir, dadas las variables $P,Q$ y $R$, dar el valor de verdad de:\n",
    "\n",
    "* Conjunción (and),\n",
    "* Disyunción (or),\n",
    "* Condicional (If ... else ...),\n",
    "* Bicondicional (If and only if).\n",
    "\n",
    "No es necesario que el código venere una tabla, solo es necesario que se muestren los valores de verdas de las variables y su resultado en cada impresión.\n",
    "\n",
    "Un ejemplo, generemos la negación de la variable $P$, que se puede denotar como $\\neg P$, y se vé en la siguiente tabla:\n",
    "\n",
    "\n",
    "|    $P$     |   $\\neg P$   | $\\neg(\\neg P)$|\n",
    "|------------|--------------|---------------|\n",
    "|Verdader (V)|   Falso (F)  | Verdader (V)  |\n",
    "| Falso (F)  | Verdader (V) |    Falso (F)  |\n",
    "\n"
   ]
  },
  {
   "cell_type": "code",
   "execution_count": null,
   "id": "8d72c50d",
   "metadata": {},
   "outputs": [],
   "source": []
  },
  {
   "cell_type": "markdown",
   "id": "cb351a63",
   "metadata": {},
   "source": [
    "**2.** La equivalencia entre dos argumento se da cuando coinciden en sus valores de verdad. Demostrar si los siguientes argumentos son equivalentes:\n",
    "\n",
    "* ¿$(p \\Longrightarrow q)\\land p$ es equivalente a $q$? Esta se conoce como Modus Pones.\n",
    "* ¿$(p \\Longrightarrow q)\\land \\neg q$ es equivalente a $\\neg p$? Esta se conoce como Modus Tollens.\n",
    "* ¿$\\neg(p\\land q)$ es equivalente a $\\neg p\\lor \\neg q$? Esta es la primera leye de D'Morgan.\n",
    "* ¿$\\neg(p\\lor q)$ es equivalente a $\\neg p\\land \\neg q$? Esta es la segunda leye de D'Morgan.\n",
    "* ¿$(p \\Longrightarrow q)$ y $(\\neg q \\Longrightarrow \\neg p)$. Esta se conoce como contrareciproca o transposición.\n",
    "* ¿$(p \\Longrightarrow q)$ es equivalente a $\\neg(p \\land \\neg q)$? Esta se conoce como Implicación material.\n",
    "\n",
    "Para este problema no es necesario diseñar un código. Solo debes hacerlas e investigar cómo es posible hacer tablas usando $\\LaTeX$ en el notebook."
   ]
  },
  {
   "cell_type": "code",
   "execution_count": 26,
   "id": "1b629e39",
   "metadata": {},
   "outputs": [
    {
     "name": "stdout",
     "output_type": "stream",
     "text": [
      " p        | q        |( p ===> q ) ^ p|\n",
      " 1          1                    1                             \n",
      " 1          0                    0                             \n",
      " 0          0                    0                             \n",
      " 0          1                    0                             \n"
     ]
    }
   ],
   "source": [
    "alignment = 10\n",
    "\n",
    "expression = \"( p ===> q ) ^ p\"\n",
    "expression2 = \" q \"\n",
    "\n",
    "print(f\"{' p':<{alignment}}\", end=\"|\")\n",
    "print(f\"{' q':<{alignment}}\", end=\"|\")\n",
    "print(f\"{str(expression):<{alignment}}\", end=\"|\")\n",
    "pq = [ ( 1,1 ), (1,0), (0,0), (0,1) ]\n",
    "eval1 = [  a[0] <= a[1] and a[0] for a in pq  ]\n",
    "print()\n",
    "for index, value in enumerate(pq):\n",
    "    print(' '+f\"{value[0]:<{alignment}}\", end=\"\")\n",
    "    print(' '+f\"{value[1]:<{alignment * 2}}\", end=\"\")\n",
    "    print(' '+f\"{eval1[index]:<{alignment * 3}}\", end=\"\")\n",
    "    print()\n",
    "\n"
   ]
  },
  {
   "cell_type": "code",
   "execution_count": 50,
   "id": "7f261685",
   "metadata": {},
   "outputs": [
    {
     "name": "stdout",
     "output_type": "stream",
     "text": [
      " p        | q        |( p ===> q ) ^ -q| -p       |\n",
      " 1          1            0                  0                   \n",
      " 1          0            0                  0                   \n",
      " 0          0            1                  1                   \n",
      " 0          1            0                  1                   \n"
     ]
    }
   ],
   "source": [
    "alignment = 10\n",
    "\n",
    "expression = \"( p ===> q ) ^ -q\"\n",
    "expression2 = \" -p \"\n",
    "\n",
    "print(f\"{' p':<{alignment}}\", end=\"|\")\n",
    "print(f\"{' q':<{alignment}}\", end=\"|\")\n",
    "print(f\"{str(expression):<{alignment}}\", end=\"|\")\n",
    "print(f\"{str(expression2):<{alignment}}\", end=\"|\")\n",
    "pq = [ ( 1,1 ), (1,0), (0,0), (0,1) ]\n",
    "eval1 = [  a[0] <= a[1] and int(not a[1]) for a in pq  ]\n",
    "eval2 = [  int(not a[0]) for a in pq  ]\n",
    "print()\n",
    "for index, value in enumerate(pq):\n",
    "    print(' '+f\"{value[0]:<{alignment}}\", end=\"\")\n",
    "    print(' '+f\"{value[1]:<{alignment + 2}}\", end=\"\")\n",
    "    print(' '+f\"{eval1[index]:<{alignment + 8}}\", end=\"\")\n",
    "    print(' '+f\"{eval2[index]:<{alignment * 2 }}\", end=\"\")\n",
    "    print()"
   ]
  },
  {
   "cell_type": "code",
   "execution_count": 52,
   "id": "148fcdbf",
   "metadata": {},
   "outputs": [
    {
     "name": "stdout",
     "output_type": "stream",
     "text": [
      " p        | q        | - ( p ^ q )| -p v -q  |\n",
      " 1          1          0                  0                   \n",
      " 1          0          1                  1                   \n",
      " 0          0          1                  1                   \n",
      " 0          1          1                  1                   \n"
     ]
    }
   ],
   "source": [
    "alignment = 10\n",
    "\n",
    "expression = \" - ( p ^ q )\"\n",
    "expression2 = \" -p v -q\"\n",
    "\n",
    "print(f\"{' p':<{alignment}}\", end=\"|\")\n",
    "print(f\"{' q':<{alignment}}\", end=\"|\")\n",
    "print(f\"{str(expression):<{alignment}}\", end=\"|\")\n",
    "print(f\"{str(expression2):<{alignment}}\", end=\"|\")\n",
    "pq = [ ( 1,1 ), (1,0), (0,0), (0,1) ]\n",
    "eval1 = [  int(not ( a[0] and a[1] )) for a in pq  ]\n",
    "eval2 = [  int(not a[0]) or  int(not a[1]) for a in pq  ]\n",
    "print()\n",
    "for index, value in enumerate(pq):\n",
    "    print(' '+f\"{value[0]:<{alignment}}\", end=\"\")\n",
    "    print(' '+f\"{value[1]:<{alignment}}\", end=\"\")\n",
    "    print(' '+f\"{eval1[index]:<{alignment + 8}}\", end=\"\")\n",
    "    print(' '+f\"{eval2[index]:<{alignment * 2 }}\", end=\"\")\n",
    "    print()"
   ]
  },
  {
   "cell_type": "code",
   "execution_count": 53,
   "id": "400a9dc6",
   "metadata": {},
   "outputs": [
    {
     "name": "stdout",
     "output_type": "stream",
     "text": [
      " p        | q        | - ( p v q )| -p ^ -q  |\n",
      " 1          1          0                  0                   \n",
      " 1          0          0                  0                   \n",
      " 0          0          1                  1                   \n",
      " 0          1          0                  0                   \n"
     ]
    }
   ],
   "source": [
    "alignment = 10\n",
    "\n",
    "expression = \" - ( p v q )\"\n",
    "expression2 = \" -p ^ -q\"\n",
    "\n",
    "print(f\"{' p':<{alignment}}\", end=\"|\")\n",
    "print(f\"{' q':<{alignment}}\", end=\"|\")\n",
    "print(f\"{str(expression):<{alignment}}\", end=\"|\")\n",
    "print(f\"{str(expression2):<{alignment}}\", end=\"|\")\n",
    "pq = [ ( 1,1 ), (1,0), (0,0), (0,1) ]\n",
    "eval1 = [  int(not ( a[0] or a[1] )) for a in pq  ]\n",
    "eval2 = [  int(not a[0]) and  int(not a[1]) for a in pq  ]\n",
    "print()\n",
    "for index, value in enumerate(pq):\n",
    "    print(' '+f\"{value[0]:<{alignment}}\", end=\"\")\n",
    "    print(' '+f\"{value[1]:<{alignment}}\", end=\"\")\n",
    "    print(' '+f\"{eval1[index]:<{alignment + 8}}\", end=\"\")\n",
    "    print(' '+f\"{eval2[index]:<{alignment * 2 }}\", end=\"\")\n",
    "    print()"
   ]
  },
  {
   "cell_type": "code",
   "execution_count": 55,
   "id": "bda0bb5a",
   "metadata": {},
   "outputs": [
    {
     "name": "stdout",
     "output_type": "stream",
     "text": [
      " p        | q        |p ==> q   |-q ==> -p |\n",
      " 1          1          1                  1                   \n",
      " 1          0          0                  0                   \n",
      " 0          0          1                  1                   \n",
      " 0          1          1                  1                   \n"
     ]
    }
   ],
   "source": [
    "alignment = 10\n",
    "\n",
    "expression = \"p ==> q\"\n",
    "expression2 = \"-q ==> -p\"\n",
    "\n",
    "print(f\"{' p':<{alignment}}\", end=\"|\")\n",
    "print(f\"{' q':<{alignment}}\", end=\"|\")\n",
    "print(f\"{str(expression):<{alignment}}\", end=\"|\")\n",
    "print(f\"{str(expression2):<{alignment}}\", end=\"|\")\n",
    "pq = [ ( 1,1 ), (1,0), (0,0), (0,1) ]\n",
    "eval1 = [  a[0] <= a[1] for a in pq  ]\n",
    "eval2 = [  int(not a[1]) <= int( not a[0])  for a in pq  ]\n",
    "print()\n",
    "for index, value in enumerate(pq):\n",
    "    print(' '+f\"{value[0]:<{alignment}}\", end=\"\")\n",
    "    print(' '+f\"{value[1]:<{alignment}}\", end=\"\")\n",
    "    print(' '+f\"{eval1[index]:<{alignment + 8}}\", end=\"\")\n",
    "    print(' '+f\"{eval2[index]:<{alignment * 2 }}\", end=\"\")\n",
    "    print()"
   ]
  },
  {
   "cell_type": "markdown",
   "id": "22cdd66a",
   "metadata": {},
   "source": [
    "🧠 Para terminar te dejo un libro que puedes usar para estudiar estos temas y profundizar un poco sobre métodos de demostración en matemáticas. Puedes leer el capítulos 1 y 2 e ir preguntando cualquier duda que tengas."
   ]
  }
 ],
 "metadata": {
  "kernelspec": {
   "display_name": "Python 3 (ipykernel)",
   "language": "python",
   "name": "python3"
  },
  "language_info": {
   "codemirror_mode": {
    "name": "ipython",
    "version": 3
   },
   "file_extension": ".py",
   "mimetype": "text/x-python",
   "name": "python",
   "nbconvert_exporter": "python",
   "pygments_lexer": "ipython3",
   "version": "3.10.9"
  }
 },
 "nbformat": 4,
 "nbformat_minor": 5
}
