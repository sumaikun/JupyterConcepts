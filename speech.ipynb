{
 "cells": [
  {
   "cell_type": "markdown",
   "id": "cd7d7eff-efc5-4c77-a073-a806b8770c18",
   "metadata": {},
   "source": [
    "Whisper language model https://github.com/openai/whisper"
   ]
  },
  {
   "cell_type": "code",
   "execution_count": 17,
   "id": "f9512b7e-daee-45bb-811e-54e41fe3bd57",
   "metadata": {},
   "outputs": [],
   "source": [
    "import pytube\n",
    "\n",
    "def download_audio(video_id):\n",
    "    # Create a YouTube object using the video ID\n",
    "    yt = pytube.YouTube(f\"https://www.youtube.com/watch?v={video_id}\")\n",
    "\n",
    "    try:\n",
    "        # Select an audio stream in MP3 format\n",
    "        audio_stream = yt.streams.filter(only_audio=True, file_extension='webm').first()\n",
    "\n",
    "        # Download the audio to a specific directory\n",
    "        audio_stream.download(\"./audios\", filename=f\"{video_id}.webm\")\n",
    "\n",
    "        return f\"Audio for video '{video_id}' was downloaded successfully.\"\n",
    "\n",
    "    except pytube.exceptions.VideoUnavailable:\n",
    "        return f\"Video with ID '{video_id}' is unavailable.\"\n",
    "\n",
    "    except pytube.exceptions.ExtractError:\n",
    "        return f\"Unable to extract audio stream from video '{video_id}'.\""
   ]
  },
  {
   "cell_type": "code",
   "execution_count": 19,
   "id": "cc40d4c2-f434-494d-bb50-ba27a6318897",
   "metadata": {},
   "outputs": [
    {
     "name": "stdout",
     "output_type": "stream",
     "text": [
      "ffmpeg version 4.2.2 Copyright (c) 2000-2019 the FFmpeg developers\n",
      "built with clang version 4.0.1 (tags/RELEASE_401/final)\n",
      "configuration: --prefix=/opt/concourse/worker/volumes/live/d5b9ea1c-8223-4ff6-7416-83e6b4cd6874/volume/ffmpeg_1587154914508/_h_env_placehold_placehold_placehold_placehold_placehold_placehold_placehold_placehold_placehold_placehold_placehold_placehold_placehold_placehold_placehol --cc=x86_64-apple-darwin13.4.0-clang --disable-doc --enable-avresample --enable-gmp --enable-hardcoded-tables --enable-libfreetype --enable-libvpx --enable-pthreads --enable-libopus --enable-postproc --enable-pic --enable-pthreads --enable-shared --enable-static --enable-version3 --enable-zlib --enable-libmp3lame --disable-nonfree --enable-gpl --enable-gnutls --disable-openssl --enable-libopenh264 --enable-libx264\n",
      "libavutil      56. 31.100 / 56. 31.100\n",
      "libavcodec     58. 54.100 / 58. 54.100\n",
      "libavformat    58. 29.100 / 58. 29.100\n",
      "libavdevice    58.  8.100 / 58.  8.100\n",
      "libavfilter     7. 57.100 /  7. 57.100\n",
      "libavresample   4.  0.  0 /  4.  0.  0\n",
      "libswscale      5.  5.100 /  5.  5.100\n",
      "libswresample   3.  5.100 /  3.  5.100\n",
      "libpostproc    55.  5.100 / 55.  5.100\n",
      "\n"
     ]
    }
   ],
   "source": [
    "import subprocess\n",
    "\n",
    "# Run the ffmpeg command to display the version information\n",
    "result = subprocess.run([\"ffmpeg\", \"-version\"], stdout=subprocess.PIPE)\n",
    "\n",
    "# Print the output of the command\n",
    "print(result.stdout.decode())"
   ]
  },
  {
   "cell_type": "code",
   "execution_count": 20,
   "id": "f7bee39a-915b-4760-b79c-7b63d9fb99a3",
   "metadata": {},
   "outputs": [],
   "source": [
    "from IPython.display import HTML\n",
    "def play_audio(video_id):\n",
    "    audio = f\"./audios/{video_id}.webm\"\n",
    "    return HTML(f\"\"\"\n",
    "    <audio controls>\n",
    "      <source src=\"{audio}\" type=\"audio/webm\">\n",
    "    </audio>\n",
    "    \"\"\")"
   ]
  },
  {
   "cell_type": "code",
   "execution_count": 25,
   "id": "8ef1f2b9-5234-4785-a0f2-1ddf3a8a3180",
   "metadata": {},
   "outputs": [],
   "source": [
    "import whisper\n",
    "def transcribe_audio(video_id):\n",
    "    # Load the model\n",
    "    model = whisper.load_model(\"medium\")\n",
    "\n",
    "    # Load the audio file\n",
    "    audio = f\"./audios/{video_id}.webm\"\n",
    "\n",
    "    # Transcribe the audio\n",
    "    result = model.transcribe(audio)\n",
    "\n",
    "    return result[\"text\"]"
   ]
  },
  {
   "cell_type": "code",
   "execution_count": 23,
   "id": "ca14255d-5ef1-4a32-8d25-1d6eee4d21e8",
   "metadata": {},
   "outputs": [
    {
     "data": {
      "text/html": [
       "\n",
       "    <audio controls>\n",
       "      <source src=\"./audios/iu59kCUN4to.webm\" type=\"audio/webm\">\n",
       "    </audio>\n",
       "    "
      ],
      "text/plain": [
       "<IPython.core.display.HTML object>"
      ]
     },
     "execution_count": 23,
     "metadata": {},
     "output_type": "execute_result"
    }
   ],
   "source": [
    "video_id = \"iu59kCUN4to\"\n",
    "download_audio(video_id)\n",
    "play_audio(video_id)\n",
    "#transcribe_audio(video_id)"
   ]
  },
  {
   "cell_type": "code",
   "execution_count": 26,
   "id": "e91ae0c0-d855-4de1-8856-71ea5116a5b6",
   "metadata": {},
   "outputs": [
    {
     "name": "stderr",
     "output_type": "stream",
     "text": [
      "100%|█████████████████████████████████████| 1.42G/1.42G [00:35<00:00, 43.1MiB/s]\n",
      "/Users/jesusvega/opt/anaconda3/lib/python3.9/site-packages/whisper/transcribe.py:78: UserWarning: FP16 is not supported on CPU; using FP32 instead\n",
      "  warnings.warn(\"FP16 is not supported on CPU; using FP32 instead\")\n"
     ]
    },
    {
     "data": {
      "text/plain": [
       "\" I couldn't wait for you to come and clear the cupboards But now you're gonna leave with nothing but a sigh Another evening I'll be sitting, reading in between your lines Because I miss you all the time So get away, another way to feel what you didn't want yourself to know Let yourself go, you know you didn't lose yourself control Let's start at the rainbow, turn away, another way to be where you didn't want yourself to go Let yourself go, aesthetic compromise Don't try to make yourself remember Darling, don't look for me, I'm just a story you've been told So let's pretend a little longer Because when we're gone, everything goes on Another way that you were lying in the gutter Cause I did everything to be there by your side So when you tell me of the reason I just can't believe the lies And what I so wanna call you So what you wanna do, what's your point of view, there's a bar is soon Do you wanna go, I'll handshake with you, what's your point of view, I'm on top of you I don't wanna go cause I really wanna stay at your house And that heart is our exile, but you know that you broke me up but I'm done with you I'm ignoring you, I don't wanna go Get away, another way to feel what you didn't want yourself to know Let yourself go, you know you didn't lose yourself control Let's start at the rainbow, so let's pretend a little longer Cause when we're gone, everything goes on\""
      ]
     },
     "execution_count": 26,
     "metadata": {},
     "output_type": "execute_result"
    }
   ],
   "source": [
    "print(transcribe_audio(video_id))"
   ]
  },
  {
   "cell_type": "code",
   "execution_count": 27,
   "id": "1846eef1-3566-48ab-9484-f1cc8ea0df6d",
   "metadata": {},
   "outputs": [
    {
     "data": {
      "text/html": [
       "\n",
       "    <audio controls>\n",
       "      <source src=\"./audios/MBfwmMwvVT8.webm\" type=\"audio/webm\">\n",
       "    </audio>\n",
       "    "
      ],
      "text/plain": [
       "<IPython.core.display.HTML object>"
      ]
     },
     "execution_count": 27,
     "metadata": {},
     "output_type": "execute_result"
    }
   ],
   "source": [
    "video_id = \"MBfwmMwvVT8\"\n",
    "play_audio(video_id)"
   ]
  },
  {
   "cell_type": "code",
   "execution_count": 28,
   "id": "fd83d169-2756-4be2-a3ff-18da3e41eab3",
   "metadata": {},
   "outputs": [
    {
     "name": "stderr",
     "output_type": "stream",
     "text": [
      "/Users/jesusvega/opt/anaconda3/lib/python3.9/site-packages/whisper/transcribe.py:78: UserWarning: FP16 is not supported on CPU; using FP32 instead\n",
      "  warnings.warn(\"FP16 is not supported on CPU; using FP32 instead\")\n"
     ]
    },
    {
     "name": "stdout",
     "output_type": "stream",
     "text": [
      " You know, you're the one for me, and you are seeing everything I wanna be. Don't break my heart. I can't let you slip away. Whoa whoa whoa whoa. Ooh la la. Yeah. Take my hand and help me understand why we've grown so apart like this. Shattered dreams are all that I'm left with, and I can't start to comprehend what was once my very soul. Has left me cold and a feeling that's gone. For good. We made mistakes, the chance to make us one has gone now. That we let it just slip away. It breaks my heart in pieces. Yeah yeah yeah. Ooh. Oh my my my. Oh my my my. Yeah. Sometimes good things come from bad, but I don't see much consolation here. A sea of hope that flows has now emptied to just a shallow stream for me. When the spark has all but gone, it's gone. There's no magic potion for love to take. The memories are all I have to ease my pain now. That we just let it slip away will heal my heart forever. The memories are all I have to ease my pain now. That we just let it slip away will break my heart forever. Forever. Ooh. Yeah. Ooh. Yeah. Ooh. Yeah. Oh my my. Yeah. Ooh. Yeah.\n"
     ]
    }
   ],
   "source": [
    "print(transcribe_audio(video_id))"
   ]
  },
  {
   "cell_type": "code",
   "execution_count": null,
   "id": "9874e24a-3d33-4745-a003-a73779068048",
   "metadata": {},
   "outputs": [],
   "source": []
  }
 ],
 "metadata": {
  "kernelspec": {
   "display_name": "Python 3 (ipykernel)",
   "language": "python",
   "name": "python3"
  },
  "language_info": {
   "codemirror_mode": {
    "name": "ipython",
    "version": 3
   },
   "file_extension": ".py",
   "mimetype": "text/x-python",
   "name": "python",
   "nbconvert_exporter": "python",
   "pygments_lexer": "ipython3",
   "version": "3.9.13"
  }
 },
 "nbformat": 4,
 "nbformat_minor": 5
}
